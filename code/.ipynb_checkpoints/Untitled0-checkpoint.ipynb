{
 "metadata": {
  "name": "",
  "signature": "sha256:717cb6a28de76d329e0d9adddbe279633c865088d1adefe804dfa86a4a761b71"
 },
 "nbformat": 3,
 "nbformat_minor": 0,
 "worksheets": [
  {
   "cells": [
    {
     "cell_type": "code",
     "collapsed": false,
     "input": [
      "from __future__ import print_function, division\n",
      "\n",
      "import thinkdsp\n",
      "import thinkplot\n",
      "import math"
     ],
     "language": "python",
     "metadata": {},
     "outputs": [],
     "prompt_number": 11
    },
    {
     "cell_type": "code",
     "collapsed": false,
     "input": [
      "class SawtoothSignal_v2(thinkdsp.Sinusoid):\n",
      "    \"This class takes a signal and outputs a float wave array\" \n",
      "\n",
      "    def evaluate(self, ts): \n",
      "        A = self.period\n",
      "        ys  = 2*((ts/A) - numpy.floor(0.5 + (ts/A)))\n",
      "        return ys"
     ],
     "language": "python",
     "metadata": {},
     "outputs": []
    },
    {
     "cell_type": "code",
     "collapsed": false,
     "input": [
      "sawTooth = thinkdsp.SawtoothSignal_v2(freq = 400, amp = 1, offset = 0); \n",
      "sawTooth.make_wave()"
     ],
     "language": "python",
     "metadata": {},
     "outputs": []
    },
    {
     "cell_type": "code",
     "collapsed": false,
     "input": [
      "sawTooth.plot()"
     ],
     "language": "python",
     "metadata": {},
     "outputs": []
    },
    {
     "cell_type": "code",
     "collapsed": false,
     "input": [],
     "language": "python",
     "metadata": {},
     "outputs": []
    }
   ],
   "metadata": {}
  }
 ]
}