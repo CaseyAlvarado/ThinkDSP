{
 "metadata": {
  "name": "",
  "signature": "sha256:1149a2a00cc9755bf2bd884a0c4432b204db5e588ea7219f894e2601bc9339e8"
 },
 "nbformat": 3,
 "nbformat_minor": 0,
 "worksheets": [
  {
   "cells": [
    {
     "cell_type": "markdown",
     "metadata": {},
     "source": [
      "ThinkDSP, by Allen Downey\n",
      "\n",
      "This notebook contains code examples from Chapter 3: Non-periodic signals"
     ]
    },
    {
     "cell_type": "code",
     "collapsed": false,
     "input": [
      "from __future__ import print_function, division\n",
      "\n",
      "import thinkdsp\n",
      "import thinkplot\n",
      "import numpy\n",
      "\n",
      "%precision 3\n",
      "%matplotlib inline"
     ],
     "language": "python",
     "metadata": {},
     "outputs": [],
     "prompt_number": 8
    },
    {
     "cell_type": "markdown",
     "metadata": {},
     "source": [
      "Make a linear chirp from A3 to A5."
     ]
    },
    {
     "cell_type": "code",
     "collapsed": false,
     "input": [
      "signal = thinkdsp.Chirp(start=220, end=880)\n",
      "wave1 = signal.make_wave(duration=2)\n",
      "wave1.make_audio()"
     ],
     "language": "python",
     "metadata": {},
     "outputs": [
      {
       "ename": "AttributeError",
       "evalue": "'Wave' object has no attribute 'make_audio'",
       "output_type": "pyerr",
       "traceback": [
        "\u001b[1;31m---------------------------------------------------------------------------\u001b[0m\n\u001b[1;31mAttributeError\u001b[0m                            Traceback (most recent call last)",
        "\u001b[1;32m<ipython-input-9-18544e321cd3>\u001b[0m in \u001b[0;36m<module>\u001b[1;34m()\u001b[0m\n\u001b[0;32m      1\u001b[0m \u001b[0msignal\u001b[0m \u001b[1;33m=\u001b[0m \u001b[0mthinkdsp\u001b[0m\u001b[1;33m.\u001b[0m\u001b[0mChirp\u001b[0m\u001b[1;33m(\u001b[0m\u001b[0mstart\u001b[0m\u001b[1;33m=\u001b[0m\u001b[1;36m220\u001b[0m\u001b[1;33m,\u001b[0m \u001b[0mend\u001b[0m\u001b[1;33m=\u001b[0m\u001b[1;36m880\u001b[0m\u001b[1;33m)\u001b[0m\u001b[1;33m\u001b[0m\u001b[0m\n\u001b[0;32m      2\u001b[0m \u001b[0mwave1\u001b[0m \u001b[1;33m=\u001b[0m \u001b[0msignal\u001b[0m\u001b[1;33m.\u001b[0m\u001b[0mmake_wave\u001b[0m\u001b[1;33m(\u001b[0m\u001b[0mduration\u001b[0m\u001b[1;33m=\u001b[0m\u001b[1;36m2\u001b[0m\u001b[1;33m)\u001b[0m\u001b[1;33m\u001b[0m\u001b[0m\n\u001b[1;32m----> 3\u001b[1;33m \u001b[0mwave1\u001b[0m\u001b[1;33m.\u001b[0m\u001b[0mmake_audio\u001b[0m\u001b[1;33m(\u001b[0m\u001b[1;33m)\u001b[0m\u001b[1;33m\u001b[0m\u001b[0m\n\u001b[0m",
        "\u001b[1;31mAttributeError\u001b[0m: 'Wave' object has no attribute 'make_audio'"
       ]
      }
     ],
     "prompt_number": 9
    },
    {
     "cell_type": "markdown",
     "metadata": {},
     "source": [
      "Here's what the waveform looks like near the beginning."
     ]
    },
    {
     "cell_type": "code",
     "collapsed": false,
     "input": [
      "wave1.segment(start=0, duration=0.01).plot()\n",
      "thinkplot.config(xlabel='time (s)', ylabel='amplitude', legend=False)"
     ],
     "language": "python",
     "metadata": {},
     "outputs": []
    },
    {
     "cell_type": "markdown",
     "metadata": {},
     "source": [
      "And near the end."
     ]
    },
    {
     "cell_type": "code",
     "collapsed": false,
     "input": [
      "wave1.segment(start=1.9, duration=0.01).plot()\n",
      "thinkplot.config(xlabel='time (s)', ylabel='amplitude', legend=False)"
     ],
     "language": "python",
     "metadata": {},
     "outputs": []
    },
    {
     "cell_type": "markdown",
     "metadata": {},
     "source": [
      "Here's an exponential chirp with the same frequency range and duration."
     ]
    },
    {
     "cell_type": "code",
     "collapsed": false,
     "input": [
      "signal = thinkdsp.ExpoChirp(start=220, end=880)\n",
      "wave2 = signal.make_wave(duration=2)\n",
      "wave2.make_audio()"
     ],
     "language": "python",
     "metadata": {},
     "outputs": []
    },
    {
     "cell_type": "markdown",
     "metadata": {},
     "source": [
      "Let's look at the effect of leakage on a sine signal."
     ]
    },
    {
     "cell_type": "code",
     "collapsed": false,
     "input": [
      "signal = thinkdsp.SinSignal(freq=440)"
     ],
     "language": "python",
     "metadata": {},
     "outputs": []
    },
    {
     "cell_type": "markdown",
     "metadata": {},
     "source": [
      "If the duration is an integer multiple of the period, the beginning and end of the segment line up, and we get minimal leakage."
     ]
    },
    {
     "cell_type": "code",
     "collapsed": false,
     "input": [
      "duration = signal.period * 30\n",
      "wave = signal.make_wave(duration)\n",
      "wave.plot()\n",
      "thinkplot.config(xlabel='time (s)', ylabel='amplitude', legend=False)"
     ],
     "language": "python",
     "metadata": {},
     "outputs": []
    },
    {
     "cell_type": "code",
     "collapsed": false,
     "input": [
      "spectrum = wave.make_spectrum()\n",
      "spectrum.plot(high=50)\n",
      "thinkplot.config(xlabel='frequency (Hz)', ylabel='amplitude', legend=False)"
     ],
     "language": "python",
     "metadata": {},
     "outputs": []
    },
    {
     "cell_type": "markdown",
     "metadata": {},
     "source": [
      "If the duration is off by half a period, the leakage is pretty bad."
     ]
    },
    {
     "cell_type": "code",
     "collapsed": false,
     "input": [
      "duration = signal.period * 30.5\n",
      "wave = signal.make_wave(duration)\n",
      "wave.plot()\n",
      "thinkplot.config(xlabel='time (s)', ylabel='amplitude', legend=False)"
     ],
     "language": "python",
     "metadata": {},
     "outputs": []
    },
    {
     "cell_type": "code",
     "collapsed": false,
     "input": [
      "spectrum = wave.make_spectrum()\n",
      "spectrum.plot(high=50)\n",
      "thinkplot.config(xlabel='frequency (Hz)', ylabel='amplitude', legend=False)"
     ],
     "language": "python",
     "metadata": {},
     "outputs": []
    },
    {
     "cell_type": "markdown",
     "metadata": {},
     "source": [
      "Windowing helps (but notice that it reduces the total energy)."
     ]
    },
    {
     "cell_type": "code",
     "collapsed": false,
     "input": [
      "wave.hamming()\n",
      "spectrum = wave.make_spectrum()\n",
      "spectrum.plot(high = 1500)\n",
      "thinkplot.config(xlabel='frequency (Hz)', ylabel='amplitude', legend=False)"
     ],
     "language": "python",
     "metadata": {},
     "outputs": []
    },
    {
     "cell_type": "markdown",
     "metadata": {},
     "source": [
      "If you blindly compute the DFT of a non-periodic segment, you get \"motion blur\"."
     ]
    },
    {
     "cell_type": "code",
     "collapsed": false,
     "input": [
      "signal = thinkdsp.Chirp(start=220, end=440)\n",
      "wave = signal.make_wave(duration=1)\n",
      "spectrum = wave.make_spectrum()\n",
      "spectrum.plot(high=700)\n",
      "thinkplot.config(xlabel='frequency (Hz)', ylabel='amplitude', legend=False)"
     ],
     "language": "python",
     "metadata": {},
     "outputs": []
    },
    {
     "cell_type": "markdown",
     "metadata": {},
     "source": [
      "A spectrogram is a visualization of a short-time DFT that lets you see how the spectrum varies over time."
     ]
    },
    {
     "cell_type": "code",
     "collapsed": false,
     "input": [
      "signal = thinkdsp.Chirp(start=220, end=440)\n",
      "wave = signal.make_wave(duration=1, framerate=11025)\n",
      "spectrogram = wave.make_spectrogram(seg_length=512)\n",
      "spectrogram.plot(high=32)\n",
      "thinkplot.config(xlabel='time(s)', ylabel='frequency (Hz)', legend=False)"
     ],
     "language": "python",
     "metadata": {},
     "outputs": []
    },
    {
     "cell_type": "markdown",
     "metadata": {},
     "source": [
      "If you increase the segment length, you get better frequency resolution, worse time resolution."
     ]
    },
    {
     "cell_type": "code",
     "collapsed": false,
     "input": [
      "spectrogram = wave.make_spectrogram(seg_length=1024)\n",
      "spectrogram.plot(high=64)\n",
      "thinkplot.config(xlabel='time(s)', ylabel='frequency (Hz)', legend=False)"
     ],
     "language": "python",
     "metadata": {},
     "outputs": []
    },
    {
     "cell_type": "markdown",
     "metadata": {},
     "source": [
      "If you decrease the segment length, you get better time resolution, worse frequency resolution."
     ]
    },
    {
     "cell_type": "code",
     "collapsed": false,
     "input": [
      "spectrogram = wave.make_spectrogram(seg_length=256)\n",
      "spectrogram.plot(high=16)\n",
      "thinkplot.config(xlabel='time(s)', ylabel='frequency (Hz)', legend=False)"
     ],
     "language": "python",
     "metadata": {},
     "outputs": []
    },
    {
     "cell_type": "markdown",
     "metadata": {},
     "source": [
      " "
     ]
    },
    {
     "cell_type": "code",
     "collapsed": false,
     "input": [
      "def eye_of_sauron(start, end):\n",
      "    signal = thinkdsp.Chirp(start=start, end=end)\n",
      "    wave = signal.make_wave(duration=0.5)\n",
      "    spectrum = wave.make_spectrum()\n",
      "    \n",
      "    thinkplot.preplot(1)\n",
      "    spectrum.plot(high=500)\n",
      "    thinkplot.config(xlabel='frequency (Hz)', ylabel='amplitude', legend=False)"
     ],
     "language": "python",
     "metadata": {},
     "outputs": []
    },
    {
     "cell_type": "code",
     "collapsed": false,
     "input": [
      "from IPython.html.widgets import interact\n",
      "from IPython.html import widgets\n",
      "\n",
      "slider1 = widgets.FloatSliderWidget(min=100, max=1000, value=100, step=100)\n",
      "slider2 = widgets.FloatSliderWidget(min=100, max=1000, value=200, step=100)\n",
      "interact(eye_of_sauron, start=slider1, end=slider2)"
     ],
     "language": "python",
     "metadata": {},
     "outputs": []
    },
    {
     "cell_type": "code",
     "collapsed": false,
     "input": [],
     "language": "python",
     "metadata": {},
     "outputs": []
    }
   ],
   "metadata": {}
  }
 ]
}